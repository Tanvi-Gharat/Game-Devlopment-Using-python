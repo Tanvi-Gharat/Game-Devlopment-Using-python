{
 "cells": [
  {
   "cell_type": "code",
   "execution_count": 1,
   "id": "d791d31b-91ad-4838-9c01-6b27e03e4bb8",
   "metadata": {},
   "outputs": [
    {
     "name": "stdout",
     "output_type": "stream",
     "text": [
      "Collecting emoji\n",
      "  Downloading emoji-2.14.1-py3-none-any.whl.metadata (5.7 kB)\n",
      "Downloading emoji-2.14.1-py3-none-any.whl (590 kB)\n",
      "   ---------------------------------------- 0.0/590.6 kB ? eta -:--:--\n",
      "   ---------------------------------------- 590.6/590.6 kB 7.5 MB/s eta 0:00:00\n",
      "Installing collected packages: emoji\n",
      "Successfully installed emoji-2.14.1\n",
      "Note: you may need to restart the kernel to use updated packages.\n"
     ]
    },
    {
     "name": "stderr",
     "output_type": "stream",
     "text": [
      "\n",
      "[notice] A new release of pip is available: 24.3.1 -> 25.0\n",
      "[notice] To update, run: python.exe -m pip install --upgrade pip\n"
     ]
    }
   ],
   "source": [
    "pip install emoji"
   ]
  },
  {
   "cell_type": "code",
   "execution_count": 2,
   "id": "8d3626af-3f0c-473b-9e56-6702494d8f7c",
   "metadata": {},
   "outputs": [
    {
     "name": "stdout",
     "output_type": "stream",
     "text": [
      "🐍\n"
     ]
    }
   ],
   "source": [
    "import emoji\n",
    "print(emoji.emojize(\":snake:\"))"
   ]
  },
  {
   "cell_type": "code",
   "execution_count": 3,
   "id": "fb5eacc0-5fcb-4924-99ae-a5ab10a605ee",
   "metadata": {},
   "outputs": [
    {
     "name": "stdout",
     "output_type": "stream",
     "text": [
      "🤛\n"
     ]
    }
   ],
   "source": [
    "print(emoji.emojize(\":left-facing_fist:\"))"
   ]
  },
  {
   "cell_type": "code",
   "execution_count": 5,
   "id": "3aec8d9e-903e-4d0e-9aa8-9b7372aaf0aa",
   "metadata": {},
   "outputs": [
    {
     "name": "stdout",
     "output_type": "stream",
     "text": [
      "👋\n"
     ]
    }
   ],
   "source": [
    "paper=(emoji.emojize(':waving_hand:'))\n",
    "print(paper)"
   ]
  },
  {
   "cell_type": "code",
   "execution_count": 26,
   "id": "c5758d61-e524-49c3-90d8-c85fa4abceeb",
   "metadata": {},
   "outputs": [
    {
     "name": "stdout",
     "output_type": "stream",
     "text": [
      "2\n",
      "Apple\n"
     ]
    }
   ],
   "source": [
    "import random \n",
    "print(random.randint(1,10))\n",
    "list1=[\"Apple\",\"banana\",\"Cheery\"]\n",
    "print(random.choice(list1))"
   ]
  },
  {
   "cell_type": "code",
   "execution_count": 49,
   "id": "3e8a152f-af79-4d8c-bd14-523a6d048267",
   "metadata": {},
   "outputs": [
    {
     "name": "stdout",
     "output_type": "stream",
     "text": [
      "Stone:  🤛\n",
      "Paper:  👋\n",
      "Scissor:  ✌️\n"
     ]
    },
    {
     "name": "stdin",
     "output_type": "stream",
     "text": [
      "Enter your choice: Paper\n"
     ]
    },
    {
     "name": "stdout",
     "output_type": "stream",
     "text": [
      "you loss,Pc is win.\n",
      "Pc choice is scissor\n",
      "user point is 0, pc point is 1\n"
     ]
    },
    {
     "name": "stdin",
     "output_type": "stream",
     "text": [
      "Enter your choice: STONE\n"
     ]
    },
    {
     "name": "stdout",
     "output_type": "stream",
     "text": [
      "you loss,Pc is win.\n",
      "Pc choice is paper\n",
      "user point is 0, pc point is 2\n"
     ]
    },
    {
     "name": "stdin",
     "output_type": "stream",
     "text": [
      "Enter your choice: stone\n"
     ]
    },
    {
     "name": "stdout",
     "output_type": "stream",
     "text": [
      "Tie\n",
      "Pc choice is stone\n",
      "user point is 0, pc point is 2\n",
      "Game over\n",
      "pc wins and you lose\n",
      "your points is 0 and pc points is 2\n"
     ]
    }
   ],
   "source": [
    "# Python game Devlopment\n",
    "stone=(emoji.emojize(':left-facing_fist:'))\n",
    "print(\"Stone: \",stone)\n",
    "paper=(emoji.emojize(':waving_hand:'))\n",
    "print(\"Paper: \",paper)\n",
    "scissor=(emoji.emojize(':victory_hand:'))\n",
    "print(\"Scissor: \",scissor)\n",
    "i=1\n",
    "pc_p=0\n",
    "user_p=0\n",
    "while i<=3:\n",
    "    li=[\"stone\",\"paper\",\"scissor\"]\n",
    "    pc=random.choice(li)\n",
    "    user0=input(\"Enter your choice:\")\n",
    "    user=user0.lower()\n",
    "    if user==pc:\n",
    "        print(\"Tie\")\n",
    "        print(f\"Pc choice is {pc}\")\n",
    "        print(f\"user point is {user_p}, pc point is {pc_p}\")\n",
    "    elif user==\"paper\" and pc==\"stone\":\n",
    "        print(\"you win.\")\n",
    "        user_p=user_p+1\n",
    "        print(f\"Pc choice is {pc}\")\n",
    "        print(f\"user point is {user_p}, pc point is {pc_p}\")\n",
    "    elif user==\"scissor\" and pc==\"stone\":\n",
    "        print(\"you loss,Pc is win.\")\n",
    "        pc_p=pc_p+1\n",
    "        print(f\"Pc choice is {pc}\")\n",
    "        print(f\"user point is {user_p}, pc point is {pc_p}\")\n",
    "    elif user==\"paper\" and pc==\"scissor\":\n",
    "        print(\"you loss,Pc is win.\")\n",
    "        pc_p=pc_p+1\n",
    "        print(f\"Pc choice is {pc}\")\n",
    "        print(f\"user point is {user_p}, pc point is {pc_p}\")\n",
    "    elif user==\"stone\" and pc==\"scissor\":\n",
    "        print(\"you win,Pc is loss.\")\n",
    "        user_p=user_p+1\n",
    "        print(f\"Pc choice is {pc}\")\n",
    "        print(f\"user point is {user_p}, pc point is {pc_p}\")\n",
    "    elif user==\"scissor\" and pc==\"paper\":\n",
    "        print(\"you win.,Pc is loss.\")\n",
    "        user_p=user_p+1\n",
    "        print(f\"Pc choice is {pc}\")\n",
    "        print(f\"user point is {user_p}, pc point is {pc_p}\")\n",
    "    elif user==\"stone\" and pc==\"paper\":\n",
    "        print(\"you loss,Pc is win.\")\n",
    "        pc_p=pc_p+1\n",
    "        print(f\"Pc choice is {pc}\")\n",
    "        print(f\"user point is {user_p}, pc point is {pc_p}\")\n",
    "    else:\n",
    "        print(\"Enter the correct input.\")\n",
    "    i+=1\n",
    "if i>3:\n",
    "    print(\"Game over\")\n",
    "if pc_p==user_p:\n",
    "    print(\"tie\")\n",
    "elif pc_p > user_p:\n",
    "    print(\"pc wins and you lose\")\n",
    "else:\n",
    "    print(\"you win \")\n",
    "print(f\"your points is {user_p} and pc points is {pc_p}\")"
   ]
  },
  {
   "cell_type": "code",
   "execution_count": null,
   "id": "fab820c5-d4ae-46a8-bcaa-2ab5fe90f10c",
   "metadata": {},
   "outputs": [],
   "source": []
  }
 ],
 "metadata": {
  "kernelspec": {
   "display_name": "Python 3 (ipykernel)",
   "language": "python",
   "name": "python3"
  },
  "language_info": {
   "codemirror_mode": {
    "name": "ipython",
    "version": 3
   },
   "file_extension": ".py",
   "mimetype": "text/x-python",
   "name": "python",
   "nbconvert_exporter": "python",
   "pygments_lexer": "ipython3",
   "version": "3.13.0"
  }
 },
 "nbformat": 4,
 "nbformat_minor": 5
}
